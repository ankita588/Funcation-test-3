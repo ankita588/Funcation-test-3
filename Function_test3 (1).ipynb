{
  "nbformat": 4,
  "nbformat_minor": 0,
  "metadata": {
    "colab": {
      "provenance": []
    },
    "kernelspec": {
      "name": "python3",
      "display_name": "Python 3"
    },
    "language_info": {
      "name": "python"
    }
  },
  "cells": [
    {
      "cell_type": "markdown",
      "source": [
        "### **Theory Question**\n",
        "\n",
        "\n",
        "# 1 **What is the difference between a function and a method in Python with example?**\n",
        "\n",
        "\n",
        "Answer"
      ],
      "metadata": {
        "id": "_P_TCJo36woA"
      }
    },
    {
      "cell_type": "markdown",
      "source": [
        "Functions vs. Methods in Python\n",
        "Functions and methods are both blocks of code that perform specific tasks, but they have key differences in how they are defined and used.\n",
        "\n",
        "Functions are standalone blocks of code that can be called from anywhere in your program. They are not associated with any particular object."
      ],
      "metadata": {
        "id": "K4afod5o7SxQ"
      }
    },
    {
      "cell_type": "code",
      "source": [
        "def greet(name):\n",
        "    \"\"\"\n",
        "    This function greets the person passed in as a parameter.\n",
        "    \"\"\"\n",
        "    print(\"Hello, \" + name + \". Good morning!\")\n",
        "\n",
        "greet(\"World\")  # Output: Hello, World. Good morning!"
      ],
      "metadata": {
        "id": "0t-TrDfm7Ufp"
      },
      "execution_count": null,
      "outputs": []
    },
    {
      "cell_type": "markdown",
      "source": [
        "Methods, on the other hand, are functions that are associated with a specific object. They are defined within a class and are called using dot notation on an instance of that class."
      ],
      "metadata": {
        "id": "QmLYAHo67ZJz"
      }
    },
    {
      "cell_type": "code",
      "source": [
        "class Dog:\n",
        "    def __init__(self, name):\n",
        "        self.name = name\n",
        "\n",
        "    def bark(self):\n",
        "        print(\"Woof! I'm\", self.name)\n",
        "\n",
        "my_dog = Dog(\"Buddy\")\n",
        "my_dog.bark()  # Output: Woof! I'm Buddy"
      ],
      "metadata": {
        "id": "UkGmvX9S7cRZ"
      },
      "execution_count": null,
      "outputs": []
    },
    {
      "cell_type": "markdown",
      "source": [
        "Key differences:\n",
        "\n",
        "Association: Functions are independent, while methods are tied to objects.\n",
        "Calling: Functions are called directly by their name, while methods are called using dot notation on an object.\n",
        "Access to data: Methods have implicit access to the object's data (attributes), while functions do not.\n",
        "In summary:\n",
        "\n",
        "Use a function when you need a reusable block of code that is not associated with any particular object.\n",
        "Use a method when you need a block of code that is specific to an object and needs to access or modify the object's data."
      ],
      "metadata": {
        "id": "PwtZ5u-Y7hiz"
      }
    },
    {
      "cell_type": "markdown",
      "source": [
        "\n",
        "# **2 Explain the concept of function argument and parameters in Python with example?**\n",
        "\n",
        "Answer\n",
        "\n",
        "\n"
      ],
      "metadata": {
        "id": "TXyaU8iJ8f_h"
      }
    },
    {
      "cell_type": "markdown",
      "source": [
        "Parameters\n",
        "\n",
        "Definition: Parameters are the variables that are defined within the parentheses of a function's definition. They act as placeholders for the values that will be passed to the function when it's called.\n",
        "Arguments\n",
        "\n",
        "Definition: Arguments are the actual values that are passed to a function when it's called. These values are then assigned to the corresponding parameters within the function's definition.\n",
        "Example"
      ],
      "metadata": {
        "id": "Vysdh9sc8rR6"
      }
    },
    {
      "cell_type": "code",
      "source": [
        "def greet(name):  # 'name' is a parameter\n",
        "    \"\"\"\n",
        "    This function greets the person passed in as a parameter.\n",
        "    \"\"\"\n",
        "    print(\"Hello, \" + name + \". Good morning!\")\n",
        "\n",
        "greet(\"World\")  # \"World\" is an argument"
      ],
      "metadata": {
        "id": "SB06_aMA82jf"
      },
      "execution_count": null,
      "outputs": []
    },
    {
      "cell_type": "markdown",
      "source": [
        "In this example:\n",
        "\n",
        "greet(name): The name within the parentheses is the parameter.\n",
        "greet(\"World\"): The \"World\" is the argument that is passed to the name parameter.\n",
        "Types of Arguments\n",
        "\n",
        "Positional Arguments: These are the most common type of argument. They are passed to the function in the same order as their corresponding parameters."
      ],
      "metadata": {
        "id": "Q01ow1tZ8-dB"
      }
    },
    {
      "cell_type": "code",
      "source": [
        "def add(x, y):\n",
        "    return x + y\n",
        "\n",
        "result = add(2, 3)  # Positional arguments: 2 is assigned to x, 3 is assigned to y\n",
        "print(result)  # Output: 5"
      ],
      "metadata": {
        "id": "5ZuFHLnD9A9v"
      },
      "execution_count": null,
      "outputs": []
    },
    {
      "cell_type": "markdown",
      "source": [
        "Keyword Arguments: These arguments are passed to the function using the parameter name, making their order irrelevant."
      ],
      "metadata": {
        "id": "uTVMJXb_9C40"
      }
    },
    {
      "cell_type": "code",
      "source": [
        "def greet(name, message=\"Good morning!\"):\n",
        "    print(\"Hello, \" + name + \". \" + message)\n",
        "\n",
        "greet(message=\"Hi there!\", name=\"Alice\")  # Keyword arguments, order doesn't matter"
      ],
      "metadata": {
        "id": "3VsKYVKr9K_r"
      },
      "execution_count": null,
      "outputs": []
    },
    {
      "cell_type": "markdown",
      "source": [
        "Default Arguments: These arguments have a default value assigned to them in the function definition. If no value is provided for these arguments when the function is called, the default value is used."
      ],
      "metadata": {
        "id": "INKARH189HIc"
      }
    },
    {
      "cell_type": "code",
      "source": [
        "def greet(name, message=\"Good morning!\"):\n",
        "    print(\"Hello, \" + name + \". \" + message)\n",
        "\n",
        "greet(\"Bob\")  # 'message' will use the default value: \"Good morning!\""
      ],
      "metadata": {
        "id": "wY56SJfo9U8h"
      },
      "execution_count": null,
      "outputs": []
    },
    {
      "cell_type": "markdown",
      "source": [
        "Variable-Length Arguments: These allow you to pass an arbitrary number of arguments to a function.\n",
        "\n",
        "*args: Used to pass an arbitrary number of positional arguments.\n",
        "**kwargs: Used to pass an arbitrary number of keyword arguments."
      ],
      "metadata": {
        "id": "xQ-5VlYZ9Zhj"
      }
    },
    {
      "cell_type": "code",
      "source": [
        "def sum_all(*args):\n",
        "    total = 0\n",
        "    for num in args:\n",
        "        total += num\n",
        "    return total\n",
        "\n",
        "result = sum_all(1, 2, 3, 4)  # Pass any number of arguments\n",
        "print(result)  # Output: 10"
      ],
      "metadata": {
        "id": "LLTdgtmd9c1S"
      },
      "execution_count": null,
      "outputs": []
    },
    {
      "cell_type": "markdown",
      "source": [
        "# **3 What are the difference way to define and call a function in Python with example?**\n",
        "\n",
        "Answer\n"
      ],
      "metadata": {
        "id": "c0kJYsWx9p02"
      }
    },
    {
      "cell_type": "markdown",
      "source": [
        "Certainly, let's explore the different ways to define and call functions in Python:\n",
        "\n",
        "1. Defining Functions\n",
        "\n",
        "Basic Syntax:"
      ],
      "metadata": {
        "id": "oahWgSFX92RT"
      }
    },
    {
      "cell_type": "code",
      "source": [
        "def function_name(parameter1, parameter2, ...):\n",
        "    \"\"\"\n",
        "    Docstring: A brief description of what the function does.\n",
        "    \"\"\"\n",
        "    # Function body: The code that the function executes\n",
        "    result = parameter1 + parameter2\n",
        "    return result"
      ],
      "metadata": {
        "id": "I-Xa91O695G7"
      },
      "execution_count": null,
      "outputs": []
    },
    {
      "cell_type": "markdown",
      "source": [
        "Example:"
      ],
      "metadata": {
        "id": "1HbL_HZU-Bpy"
      }
    },
    {
      "cell_type": "code",
      "source": [
        "def greet(name):\n",
        "    \"\"\"\n",
        "    This function greets the person passed in as a parameter.\n",
        "    \"\"\"\n",
        "    print(\"Hello, \" + name + \"!\")\n",
        "\n",
        "greet(\"Alice\")  # Calling the function"
      ],
      "metadata": {
        "id": "AXuLaP6P-D01"
      },
      "execution_count": null,
      "outputs": []
    },
    {
      "cell_type": "markdown",
      "source": [
        "2. Calling Functions\n",
        "\n",
        "Basic Syntax:"
      ],
      "metadata": {
        "id": "1VSjXQLk-GYr"
      }
    },
    {
      "cell_type": "code",
      "source": [
        "function_name(argument1, argument2, ...)"
      ],
      "metadata": {
        "id": "S1arexE6-K0C"
      },
      "execution_count": null,
      "outputs": []
    },
    {
      "cell_type": "markdown",
      "source": [
        "Example:"
      ],
      "metadata": {
        "id": "qHBOvCq5-M7H"
      }
    },
    {
      "cell_type": "code",
      "source": [
        "def add(x, y):\n",
        "    return x + y\n",
        "\n",
        "result = add(5, 3)  # Calling the function and storing the result\n",
        "print(result)  # Output: 8"
      ],
      "metadata": {
        "id": "j8CZKz_X-Qye"
      },
      "execution_count": null,
      "outputs": []
    },
    {
      "cell_type": "markdown",
      "source": [
        "3. Different Ways to Call Functions\n",
        "\n",
        "Positional Arguments: Arguments are passed in the same order as their corresponding parameters."
      ],
      "metadata": {
        "id": "jxvFPnZK-Uks"
      }
    },
    {
      "cell_type": "code",
      "source": [
        "def subtract(x, y):\n",
        "    return x - y\n",
        "\n",
        "result = subtract(10, 5)  # x = 10, y = 5\n",
        "print(result)  # Output: 5"
      ],
      "metadata": {
        "id": "9J9_M5pt-XX-"
      },
      "execution_count": null,
      "outputs": []
    },
    {
      "cell_type": "markdown",
      "source": [
        "Keyword Arguments: Arguments are passed using their parameter names."
      ],
      "metadata": {
        "id": "tde2OX_C-ZYP"
      }
    },
    {
      "cell_type": "code",
      "source": [
        "def greet(name, message=\"Hello\"):\n",
        "    print(message + \", \" + name + \"!\")\n",
        "\n",
        "greet(name=\"Bob\", message=\"Hi\")  # Order doesn't matter here"
      ],
      "metadata": {
        "id": "OTC9BPI7-czz"
      },
      "execution_count": null,
      "outputs": []
    },
    {
      "cell_type": "markdown",
      "source": [
        "Default Arguments: Parameters are assigned default values in the function definition."
      ],
      "metadata": {
        "id": "6xmLbzio-fwO"
      }
    },
    {
      "cell_type": "code",
      "source": [
        "def greet(name, message=\"Hello\"):\n",
        "    print(message + \", \" + name + \"!\")\n",
        "\n",
        "greet(\"Alice\")  # 'message' will use the default valu"
      ],
      "metadata": {
        "id": "Ada36roM-h0n"
      },
      "execution_count": null,
      "outputs": []
    },
    {
      "cell_type": "markdown",
      "source": [
        "Variable-Length Arguments:\n",
        "\n",
        "*args: Allows passing an arbitrary number of positional arguments."
      ],
      "metadata": {
        "id": "UgxFOakl-j42"
      }
    },
    {
      "cell_type": "code",
      "source": [
        "def sum_all(*args):\n",
        "    total = 0\n",
        "    for num in args:\n",
        "        total += num\n",
        "    return total\n",
        "\n",
        "result = sum_all(1, 2, 3, 4)\n",
        "print(result)  # Output: 10\n",
        "* **`**kwargs`:** Allows passing an arbitrary number of keyword arguments.\n",
        "Python\n",
        "\n",
        "def print_info(**kwargs):\n",
        "    for key, value in kwargs.items():\n",
        "        print(f\"{key}: {value}\")\n",
        "\n",
        "print_info(name=\"Alice\", age=30, city=\"New York\")"
      ],
      "metadata": {
        "id": "yEFy9ARh-qCJ"
      },
      "execution_count": null,
      "outputs": []
    },
    {
      "cell_type": "markdown",
      "source": [
        "Key Considerations\n",
        "\n",
        "Docstrings: Always include docstrings within your function definitions to explain their purpose and how to use them.\n",
        "Return Values: Use the return statement to send a value back from the function. If no return statement is present, the function will return None.\n",
        "I hope this comprehensive overview helps you understand the various ways to define and call functions in Python!"
      ],
      "metadata": {
        "id": "H7UTc9h_-uMp"
      }
    },
    {
      "cell_type": "markdown",
      "source": [
        "# 4  What is the purpose of the written statement in a Python functions with example?\n",
        "\n",
        "Answer\n"
      ],
      "metadata": {
        "id": "FBrQnZQl--Ci"
      }
    },
    {
      "cell_type": "markdown",
      "source": [
        "The purpose of the docstring in a Python function is to provide a concise and informative description of what the function does.\n",
        "\n",
        "Key Benefits:\n",
        "\n",
        "Documentation: Docstrings serve as internal documentation within your code. They explain the function's purpose, parameters, return values, and any side effects. This makes your code more readable and maintainable, especially for yourself and other developers who might work on the code later.\n",
        "Auto-generated Documentation: Many tools, such as Sphinx, can automatically generate documentation from docstrings. This can be extremely helpful for creating comprehensive project documentation.\n",
        "Code Completion and Tooling: Some code editors and IDEs can use docstrings to provide better code completion suggestions and tooltips, making your development process more efficient.\n",
        "Example:"
      ],
      "metadata": {
        "id": "2hLgrpEc_GwJ"
      }
    },
    {
      "cell_type": "code",
      "source": [
        "def factorial(n):\n",
        "    \"\"\"\n",
        "    This function calculates the factorial of a non-negative integer.\n",
        "\n",
        "    Args:\n",
        "        n: The non-negative integer.\n",
        "\n",
        "    Returns:\n",
        "        The factorial of n.\n",
        "    \"\"\"\n",
        "    if n == 0:\n",
        "        return 1\n",
        "    else:\n",
        "        return n * factorial(n-1)"
      ],
      "metadata": {
        "id": "DKNeze_Q_JI8"
      },
      "execution_count": null,
      "outputs": []
    },
    {
      "cell_type": "markdown",
      "source": [
        "In this example:\n",
        "\n",
        "The docstring starts with a brief description of the function's purpose (\"This function calculates the factorial of a non-negative integer.\").\n",
        "It then lists the arguments (Args:) and their descriptions.\n",
        "Finally, it specifies the return value (Returns:).\n",
        "Conventions:\n",
        "\n",
        "Docstrings are typically written using triple quotes (\"\"\").\n",
        "The first line of the docstring should be a concise summary of the function's purpose.\n",
        "Subsequent lines can provide more detailed information, including:\n",
        "Parameters and their expected types\n",
        "Return values and their types\n",
        "Possible exceptions\n",
        "Side effects (if any)\n",
        "By consistently using docstrings, you can significantly improve the readability, maintainability, and overall quality of your Python code."
      ],
      "metadata": {
        "id": "L6YroahY_MF9"
      }
    },
    {
      "cell_type": "markdown",
      "source": [],
      "metadata": {
        "id": "IHPqkw-k_83n"
      }
    },
    {
      "cell_type": "markdown",
      "source": [
        "\n",
        "\n",
        "# 5 What are iterators in Python and how do they differ from iterables with example ?\n",
        "\n",
        "Answer\n",
        "\n"
      ],
      "metadata": {
        "id": "YMEzeIaE_7g9"
      }
    },
    {
      "cell_type": "markdown",
      "source": [
        "Iterators and iterables are fundamental concepts in Python that enable you to work with collections of data efficiently. Here's a breakdown of their differences:\n",
        "\n",
        "Iterables\n",
        "\n",
        "Definition: An iterable is any object that can be looped over. This includes:\n",
        "\n",
        "Lists\n",
        "Tuples\n",
        "Sets\n",
        "Dictionaries\n",
        "Strings\n",
        "Files\n",
        "Key Characteristics:\n",
        "\n",
        "They support the iter() function, which returns an iterator object.\n",
        "You can use them in for loops.\n",
        "Iterators\n",
        "\n",
        "Definition: An iterator is an object that implements the __next__() method. This method returns the next element in the sequence. When there are no more elements, it raises the StopIteration exception.\n",
        "\n",
        "Key Characteristics:\n",
        "\n",
        "They are created from iterables using the iter() function.\n",
        "They remember their position within the sequence.\n",
        "Example"
      ],
      "metadata": {
        "id": "_bHVj_kQADc4"
      }
    },
    {
      "cell_type": "code",
      "source": [
        "# Iterable: a list\n",
        "my_list = [1, 2, 3]\n",
        "\n",
        "# Get an iterator from the list\n",
        "my_iterator = iter(my_list)\n",
        "\n",
        "# Iterate through the iterator\n",
        "print(next(my_iterator))  # Output: 1\n",
        "print(next(my_iterator))  # Output: 2\n",
        "print(next(my_iterator))  # Output: 3\n",
        "# print(next(my_iterator))  # Raises StopIteration\n",
        "\n",
        "# Using a for loop (implicitly uses iter())\n",
        "for item in my_list:\n",
        "    print(item)"
      ],
      "metadata": {
        "id": "VOU_-I_VAImU"
      },
      "execution_count": null,
      "outputs": []
    },
    {
      "cell_type": "markdown",
      "source": [
        "In essence:\n",
        "\n",
        "Iterables are like containers that hold a collection of data.\n",
        "Iterators are like pointers that move through the elements of an iterable one by one.\n",
        "Key Differences"
      ],
      "metadata": {
        "id": "oiomxZPnALVV"
      }
    },
    {
      "cell_type": "markdown",
      "source": [
        "Feature\tIterable\tIterator\n",
        "Definition\tA collection of data that can be looped over\tAn object with __next__() that returns elements sequentially\n",
        "Creation\tDirectly from data structures (lists, tuples, etc.)\tUsing iter() on an iterable\n",
        "Position\tDoesn't inherently remember its position\tRemembers its position within the sequence\n",
        "Usage\tUsed in for loops directly\tRequires explicit calls to next()"
      ],
      "metadata": {
        "id": "Ae8m4BnEAadM"
      }
    },
    {
      "cell_type": "markdown",
      "source": [
        "# **6 Explain the concept of generator in Python and how they are defined with example?**\n",
        "\n",
        "Answer"
      ],
      "metadata": {
        "id": "dL_ydSjeAuFW"
      }
    },
    {
      "cell_type": "markdown",
      "source": [
        "Certainly, let's delve into the concept of generators in Python.\n",
        "\n",
        "Generators\n",
        "\n",
        "Definition: Generators are a special type of function that returns an iterator. They don't return the entire result at once, but rather yield a sequence of values one at a time.\n",
        "\n",
        "Key Characteristics:\n",
        "\n",
        "Use yield instead of return: The yield keyword pauses the function and saves its state, allowing it to resume from where it left off the next time it's called.\n",
        "Memory Efficient: Generators are highly memory-efficient because they produce values on-the-fly, rather than storing all the values in memory at once. This is particularly beneficial when dealing with large datasets.\n",
        "Lazy Evaluation: Generators only produce the next value when it's requested, making them suitable for infinite sequences or situations where you don't need all the values immediately.\n",
        "Example"
      ],
      "metadata": {
        "id": "aoZrRPs7AzQI"
      }
    },
    {
      "cell_type": "code",
      "source": [
        "def count_up_to(n):\n",
        "    \"\"\"\n",
        "    A generator function that yields numbers from 1 to n.\n",
        "    \"\"\"\n",
        "    i = 1\n",
        "    while i <= n:\n",
        "        yield i\n",
        "        i += 1\n",
        "\n",
        "# Create a generator object\n",
        "my_generator = count_up_to(5)\n",
        "\n",
        "# Iterate through the generator\n",
        "for num in my_generator:\n",
        "    print(num)  # Output: 1 2 3 4 5"
      ],
      "metadata": {
        "id": "kFCe54fLA31X"
      },
      "execution_count": null,
      "outputs": []
    },
    {
      "cell_type": "markdown",
      "source": [
        "How Generators are Defined\n",
        "\n",
        "By using the yield keyword within a function.\n",
        "Key Differences between Generators and Normal Functions"
      ],
      "metadata": {
        "id": "lzLOAzB3A5pp"
      }
    },
    {
      "cell_type": "markdown",
      "source": [
        "Feature\tGenerator\tNormal Function\n",
        "Return Value\tReturns an iterator\tReturns a single value\n",
        "Memory Usage\tMemory-efficient (produces values on-the-fly)\tMay consume more memory if storing large results\n",
        "Execution\tPauses and resumes execution\tExecutes completely and then returns"
      ],
      "metadata": {
        "id": "nnWkJ_dSA8fd"
      }
    },
    {
      "cell_type": "markdown",
      "source": [
        "Use Cases for Generators\n",
        "\n",
        "Infinite Sequences: Generating Fibonacci numbers, prime numbers, etc.\n",
        "Large Datasets: Processing large files or data streams without loading everything into memory.\n",
        "Data Pipelines: Creating efficient data processing pipelines where data is generated and processed incrementally.\n",
        "I hope this explanation provides a good understanding of generators in Python!"
      ],
      "metadata": {
        "id": "L5TbDS4uA-vH"
      }
    },
    {
      "cell_type": "markdown",
      "source": [
        "\n",
        "# 7  What are the advantage of using generator over regular function with example?\n",
        "\n",
        "Answer\n",
        "\n"
      ],
      "metadata": {
        "id": "VO2j9ZtmBBa1"
      }
    },
    {
      "cell_type": "markdown",
      "source": [
        "Key Advantages of Generators Over Regular Functions\n",
        "\n",
        "Memory Efficiency:\n",
        "\n",
        "Generators produce values one at a time, on-demand.\n",
        "This avoids storing the entire sequence in memory, which is crucial for large datasets or infinite sequences.\n",
        "Laziness:\n",
        "\n",
        "Values are generated only when requested.\n",
        "This can save significant time and resources, especially if you don't need all the values immediately.\n",
        "Conciseness:\n",
        "\n",
        "Generator functions often have a more concise and elegant syntax compared to their regular function counterparts.\n",
        "Example\n",
        "\n",
        "Let's compare a regular function that generates a list of even numbers versus a generator function:\n",
        "\n",
        "Regular Function:"
      ],
      "metadata": {
        "id": "EovqZJwYBVXS"
      }
    },
    {
      "cell_type": "code",
      "source": [
        "def even_numbers_list(n):\n",
        "    \"\"\"Generates a list of even numbers up to n.\"\"\"\n",
        "    even_list = []\n",
        "    for i in range(n):\n",
        "        if i % 2 == 0:\n",
        "            even_list.append(i)\n",
        "    return even_list\n",
        "\n",
        "# Get a list of even numbers up to 1000000\n",
        "even_numbers = even_numbers_list(1000000)"
      ],
      "metadata": {
        "id": "GlU6etPgBY2C"
      },
      "execution_count": null,
      "outputs": []
    },
    {
      "cell_type": "markdown",
      "source": [],
      "metadata": {
        "id": "UPQzzkRpBbqP"
      }
    },
    {
      "cell_type": "markdown",
      "source": [
        "This approach:\n",
        "\n",
        "Calculates and stores all even numbers up to 1,000,000 in memory at once.\n",
        "Can consume a significant amount of memory.\n",
        "Generator Function:"
      ],
      "metadata": {
        "id": "rSnI1gv8BbVP"
      }
    },
    {
      "cell_type": "code",
      "source": [
        "def even_numbers_generator(n):\n",
        "    \"\"\"Generates even numbers up to n.\"\"\"\n",
        "    for i in range(n):\n",
        "        if i % 2 == 0:\n",
        "            yield i\n",
        "\n",
        "# Get even numbers up to 1000000 (generated on-demand)\n",
        "for number in even_numbers_generator(1000000):\n",
        "    print(number)"
      ],
      "metadata": {
        "id": "ffNVDtvpBe-V"
      },
      "execution_count": null,
      "outputs": []
    },
    {
      "cell_type": "markdown",
      "source": [
        "This approach:\n",
        "\n",
        "Generates each even number only when requested.\n",
        "Uses minimal memory as only one number is stored at a time.\n",
        "In Summary\n",
        "\n",
        "Generators are particularly beneficial when dealing with:\n",
        "\n",
        "Large datasets: Processing massive files or data streams without loading them entirely into memory.\n",
        "Infinite sequences: Generating Fibonacci numbers, prime numbers, etc.\n",
        "Data pipelines: Creating efficient data processing pipelines where data is generated and processed incrementally.\n",
        "By leveraging the memory efficiency and laziness of generators, you can write more efficient, scalable, and maintainable Python code."
      ],
      "metadata": {
        "id": "sza-ylQdBh2i"
      }
    },
    {
      "cell_type": "markdown",
      "source": [
        "\n",
        "\n",
        "# 8 What is the Lambda function in Python and when is it typically used with example? **bold text**\n",
        "\n",
        "Answer"
      ],
      "metadata": {
        "id": "Rv_2TYPhBlK5"
      }
    },
    {
      "cell_type": "markdown",
      "source": [
        "Lambda Functions in Python\n",
        "\n",
        "Definition:\n",
        "\n",
        "Lambda functions are small, anonymous functions defined in a single line using the lambda keyword.\n",
        "They are often used for short, simple operations.\n",
        "Syntax:"
      ],
      "metadata": {
        "id": "HEwsEa3RB3gy"
      }
    },
    {
      "cell_type": "code",
      "source": [
        "lambda arguments: expression\n"
      ],
      "metadata": {
        "id": "AG5mme_-B53q"
      },
      "execution_count": null,
      "outputs": []
    },
    {
      "cell_type": "markdown",
      "source": [
        "Example:"
      ],
      "metadata": {
        "id": "PhRHS7PCB7YP"
      }
    },
    {
      "cell_type": "code",
      "source": [
        "# A lambda function that squares a number\n",
        "square = lambda x: x * x\n",
        "\n",
        "result = square(5)  # result will be 25"
      ],
      "metadata": {
        "id": "4XB1fnOzB-aI"
      },
      "execution_count": null,
      "outputs": []
    },
    {
      "cell_type": "markdown",
      "source": [
        "When to Use Lambda Functions:\n",
        "\n",
        "Short, Concise Operations: Lambda functions are ideal for one-line operations that can be expressed concisely.\n",
        "Function Arguments: They are often used as arguments to other functions, such as map(), filter(), and sorted().\n",
        "Callbacks: Lambda functions can be used as callback functions in event-driven programming.\n",
        "Example with map():"
      ],
      "metadata": {
        "id": "OQnp7rYKCOS1"
      }
    },
    {
      "cell_type": "code",
      "source": [
        "numbers = [1, 2, 3, 4, 5]\n",
        "squared_numbers = list(map(lambda x: x * x, numbers))\n",
        "print(squared_numbers)  # Output: [1, 4, 9, 16, 25]"
      ],
      "metadata": {
        "id": "flFgxrq8CS-k"
      },
      "execution_count": null,
      "outputs": []
    },
    {
      "cell_type": "markdown",
      "source": [
        "Example with filter():"
      ],
      "metadata": {
        "id": "f4_SIxCACUtc"
      }
    },
    {
      "cell_type": "code",
      "source": [
        "numbers = [1, 2, 3, 4, 5]\n",
        "even_numbers = list(filter(lambda x: x % 2 == 0, numbers))\n",
        "print(even_numbers)  # Output: [2, 4]"
      ],
      "metadata": {
        "id": "yiAqOBeYCWz6"
      },
      "execution_count": null,
      "outputs": []
    },
    {
      "cell_type": "markdown",
      "source": [
        "Key Advantages:\n",
        "\n",
        "Concise: They provide a concise way to define simple functions.\n",
        "Readability (sometimes): For very simple operations, lambda functions can improve code readability.\n",
        "Key Considerations:\n",
        "\n",
        "Readability: For complex operations, lambda functions can sometimes make the code harder to read. In such cases, a regular function might be more appropriate.\n",
        "Maintainability: Overusing lambda functions can make the code harder to maintain, especially for complex logic.\n",
        "In Summary:\n",
        "\n",
        "Lambda functions are a powerful tool in Python for concisely defining small, anonymous functions. They are particularly useful when used in conjunction with functions like map(), filter(), and sorted(). However, it's important to use them judiciously to maintain code readability and maintainability.\n",
        "\n",
        "\n",
        "Sources and related content\n"
      ],
      "metadata": {
        "id": "hEVHojzACZ4r"
      }
    },
    {
      "cell_type": "markdown",
      "source": [
        "# **9 Explain the purpose and usage of the map() function in Python with example ?**\n",
        "\n",
        "Answer\n"
      ],
      "metadata": {
        "id": "3Dc6ALSSCdog"
      }
    },
    {
      "cell_type": "markdown",
      "source": [
        "Certainly, let's explore the map() function in Python.\n",
        "\n",
        "Purpose\n",
        "\n",
        "The map() function applies a given function to each item in an iterable (like a list, tuple, or set) and returns an iterator of the results.\n",
        "Usage\n",
        "\n",
        "Syntax:"
      ],
      "metadata": {
        "id": "Ddnh1N0KJ65S"
      }
    },
    {
      "cell_type": "code",
      "source": [
        "map(function, iterable1, iterable2, ...)"
      ],
      "metadata": {
        "id": "Wp-3OAGLKB0l"
      },
      "execution_count": null,
      "outputs": []
    },
    {
      "cell_type": "markdown",
      "source": [
        "Parameters:\n",
        "\n",
        "function: The function to apply to each item in the iterable(s).\n",
        "iterable1: The first iterable to apply the function to.\n",
        "iterable2, ...: Optional additional iterables. If multiple iterables are provided, the function must accept the same number of arguments as there are iterables.\n",
        "Example:"
      ],
      "metadata": {
        "id": "3-RKV0H4KFKf"
      }
    },
    {
      "cell_type": "code",
      "source": [
        "numbers = [1, 2, 3, 4, 5]\n",
        "\n",
        "# Define a function to square a number\n",
        "def square(x):\n",
        "    return x * x\n",
        "\n",
        "# Use map() to square each number in the list\n",
        "squared_numbers = map(square, numbers)\n",
        "\n",
        "# Convert the map object to a list\n",
        "squared_numbers_list = list(squared_numbers)\n",
        "\n",
        "print(squared_numbers_list)  # Output: [1, 4, 9, 16, 25]"
      ],
      "metadata": {
        "id": "ut29TJALKIu8"
      },
      "execution_count": null,
      "outputs": []
    },
    {
      "cell_type": "markdown",
      "source": [
        "Key Points\n",
        "\n",
        "map() returns an iterator, not a list. You often need to convert it to a list (using list()) or another data structure to use the results.\n",
        "\n",
        "map() can be used with lambda functions for concise operations."
      ],
      "metadata": {
        "id": "wO1ttvxqKPqU"
      }
    },
    {
      "cell_type": "code",
      "source": [
        "squared_numbers = list(map(lambda x: x * x, numbers))"
      ],
      "metadata": {
        "id": "FOtQMOLhKR7-"
      },
      "execution_count": null,
      "outputs": []
    },
    {
      "cell_type": "markdown",
      "source": [
        "If multiple iterables are provided, the function will be applied to corresponding elements from each iterable."
      ],
      "metadata": {
        "id": "-mu0z5KCKTkU"
      }
    },
    {
      "cell_type": "code",
      "source": [
        "numbers1 = [1, 2, 3]\n",
        "numbers2 = [4, 5, 6]\n",
        "\n",
        "# Add corresponding elements from each list\n",
        "sums = list(map(lambda x, y: x + y, numbers1, numbers2))\n",
        "print(sums)  # Output: [5, 7, 9]"
      ],
      "metadata": {
        "id": "tKW0GULjKWJ7"
      },
      "execution_count": null,
      "outputs": []
    },
    {
      "cell_type": "markdown",
      "source": [
        "In Summary\n",
        "\n",
        "The map() function is a powerful tool for applying a function to each element of an iterable efficiently. It simplifies code and can make your programs more concise and readable."
      ],
      "metadata": {
        "id": "BLJ2NLvbKYTs"
      }
    },
    {
      "cell_type": "markdown",
      "source": [
        "# 10 What is the difference between map() reduce() and filter() function in Python?\n",
        "\n",
        "Answer"
      ],
      "metadata": {
        "id": "UWGZg_EPKaB4"
      }
    },
    {
      "cell_type": "markdown",
      "source": [
        "Certainly, let's break down the differences between map(), reduce(), and filter() in Python:\n",
        "\n",
        "1. map()\n",
        "\n",
        "Purpose: Applies a given function to each item in an iterable and returns an iterator of the results.\n",
        "Usage:\n",
        "map(function, iterable1, iterable2, ...)\n",
        "Example:\n",
        "squared_numbers = map(lambda x: x*x, [1, 2, 3])\n",
        "2. reduce()\n",
        "\n",
        "Purpose: Applies a function cumulatively to the items of an iterable, from left to right, reducing it to a single value.\n",
        "Usage:\n",
        "reduce(function, iterable, initializer=None)\n",
        "Note: reduce() is now in the functools module: from functools import reduce\n",
        "Example:\n",
        "sum_of_numbers = reduce(lambda x, y: x + y, [1, 2, 3])\n",
        "3. filter()\n",
        "\n",
        "Purpose: Creates an iterator from those elements of an iterable for which a function returns True.\n",
        "Usage:\n",
        "filter(function, iterable)\n",
        "Example:\n",
        "even_numbers = filter(lambda x: x % 2 == 0, [1, 2, 3, 4, 5])\n",
        "Here's a table summarizing the key differences:"
      ],
      "metadata": {
        "id": "7qivRDT6K1uX"
      }
    },
    {
      "cell_type": "markdown",
      "source": [
        "Function\tPurpose\tReturns\tExample\n",
        "map()\tApplies a function to each item in an iterable.\tIterator of results\tmap(lambda x: x*x, [1, 2, 3])\n",
        "reduce()\tApplies a function cumulatively to items of an iterable.\tSingle value\treduce(lambda x, y: x + y, [1, 2, 3])\n",
        "filter()\tCreates an iterator of items that satisfy a condition.\tIterator of filtered items\tfilter(lambda x: x % 2 == 0, [1, 2, 3, 4, 5])"
      ],
      "metadata": {
        "id": "BJ_ldgyOK4Aj"
      }
    },
    {
      "cell_type": "markdown",
      "source": [
        "In essence:\n",
        "\n",
        "map(): Transforms each element.\n",
        "reduce(): Aggregates elements to a single value.\n",
        "filter(): Selects elements based on a condition.\n",
        "I hope this explanation clarifies the differences between map(), reduce(), and filter() in Python!\n",
        "\n",
        "\n",
        "\n",
        "\n",
        "\n",
        "\n",
        "\n"
      ],
      "metadata": {
        "id": "EZ1h1cCBK58Y"
      }
    },
    {
      "cell_type": "markdown",
      "source": [
        "# **11   Using and pen paper write the internal Mechanism for sum operation using reduce function on this given list (47,11 ,42 ,13)?**\n",
        "\n",
        "Answer"
      ],
      "metadata": {
        "id": "OpeynoFVNzu8"
      }
    },
    {
      "cell_type": "markdown",
      "source": [
        "Understanding the reduce() Function\n",
        "\n",
        "The reduce() function in Python iterates through a sequence, applying a specified function cumulatively to the elements. In essence, it takes two elements at a time, applies the function, and then uses the result as one of the inputs for the next iteration.\n",
        "\n",
        "Visualizing the Sum Operation\n",
        "\n",
        "Let's break down the reduce() function's behavior for the given list [47, 11, 42, 13]:\n",
        "\n",
        "Initial Step:\n",
        "\n",
        "The reduce() function starts by taking the first two elements: 47 and 11.\n",
        "It applies the my_sum function (which simply adds two numbers) to these elements: 47 + 11 = 58.\n",
        "Second Step:\n",
        "\n",
        "Now, the reduce() function takes the result of the previous step (58) and the next element in the list (42).\n",
        "It applies my_sum again: 58 + 42 = 100.\n",
        "Third Step:\n",
        "\n",
        "The reduce() function takes the result of the previous step (100) and the next element in the list (13).\n",
        "It applies my_sum one final time: 100 + 13 = 113.\n",
        "Final Result:\n",
        "\n",
        "The reduce() function has iterated through the entire list, accumulating the sum of all elements. The final result, 113, is returned.\n",
        "\n",
        "Visual Representation:"
      ],
      "metadata": {
        "id": "-9SVzjvxOJpn"
      }
    },
    {
      "cell_type": "code",
      "source": [
        "[47, 11, 42, 13]\n",
        "  ↓\n",
        "[58, 42, 13]  # 47 + 11 = 58\n",
        "  ↓\n",
        "[100, 13]     # 58 + 42 = 100\n",
        "  ↓\n",
        "[113]         # 100 + 13 = 113"
      ],
      "metadata": {
        "id": "50i_vFdbOW60"
      },
      "execution_count": null,
      "outputs": []
    },
    {
      "cell_type": "markdown",
      "source": [
        "This step-by-step process illustrates how the reduce() function effectively calculates the sum of the given list using a cumulative approach."
      ],
      "metadata": {
        "id": "JHtGJClmOZJ9"
      }
    },
    {
      "cell_type": "markdown",
      "source": [
        "\n",
        "\n",
        "\n",
        "# Practical Question\n",
        "\n",
        "## 1  Write a pattern function that take a list of number as input and return the sum of all even number in the list. **bold text**\n",
        "\n",
        "Answer\n"
      ],
      "metadata": {
        "id": "7X_61KfcOtMI"
      }
    },
    {
      "cell_type": "code",
      "source": [
        "def sum_of_even_numbers(numbers):\n",
        "  \"\"\"\n",
        "  This function takes a list of numbers as input and returns the sum of all even numbers in the list.\n",
        "\n",
        "  Args:\n",
        "    numbers: A list of numbers.\n",
        "\n",
        "  Returns:\n",
        "    The sum of all even numbers in the list.\n",
        "  \"\"\"\n",
        "  even_sum = 0\n",
        "  for num in numbers:\n",
        "    if num % 2 == 0:\n",
        "      even_sum += num\n",
        "  return even_sum\n",
        "\n",
        "# Example usage:\n",
        "my_list = [1, 2, 3, 4, 5, 6, 7, 8, 9, 10]\n",
        "result = sum_of_even_numbers(my_list)\n",
        "print(\"Sum of even numbers:\", result)  # Output: Sum of even numbers: 30"
      ],
      "metadata": {
        "id": "FuKu9QJWQDih"
      },
      "execution_count": null,
      "outputs": []
    },
    {
      "cell_type": "markdown",
      "source": [
        "Explanation:\n",
        "\n",
        "Function Definition:\n",
        "\n",
        "def sum_of_even_numbers(numbers): defines a function named sum_of_even_numbers that takes a single argument, numbers, which is expected to be a list of numbers.\n",
        "Initialization:\n",
        "\n",
        "even_sum = 0 initializes a variable even_sum to 0. This variable will store the sum of all even numbers found in the list.\n",
        "Iteration:\n",
        "\n",
        "for num in numbers: iterates through each number (num) in the input list numbers.\n",
        "Even Number Check:\n",
        "\n",
        "if num % 2 == 0: checks if the current number num is even by checking if it's divisible by 2 without any remainder.\n",
        "Summation:\n",
        "\n",
        "even_sum += num adds the current even number num to the even_sum variable.\n",
        "Return Result:\n",
        "\n",
        "return even_sum returns the calculated sum of all even numbers in the list.\n",
        "Example Usage:\n",
        "\n",
        "A sample list my_list is created.\n",
        "The sum_of_even_numbers function is called with my_list as input, and the result is stored in the result variable.\n",
        "The result is then printed to the console.\n",
        "This function efficiently calculates the sum of all even numbers within a given list of numbers."
      ],
      "metadata": {
        "id": "usx0IC1CQKDr"
      }
    },
    {
      "cell_type": "markdown",
      "source": [
        "\n",
        "\n",
        "# 2 Create a Python function that accept a string and return the reverse of that string ?\n",
        "\n",
        "Answer"
      ],
      "metadata": {
        "id": "HMFxG8xnRU_V"
      }
    },
    {
      "cell_type": "code",
      "source": [
        "def reverse_string(s):\n",
        "  \"\"\"\n",
        "  This function reverses a given string.\n",
        "\n",
        "  Args:\n",
        "    s: The input string.\n",
        "\n",
        "  Returns:\n",
        "    The reversed string.\n",
        "  \"\"\"\n",
        "  return s[::-1]\n",
        "\n",
        "# Example usage:\n",
        "string = \"hello\"\n",
        "reversed_string = reverse_string(string)\n",
        "print(\"Original string:\", string)\n",
        "print(\"Reversed string:\", reversed_string)"
      ],
      "metadata": {
        "id": "zc4Z0hPCSFzD"
      },
      "execution_count": null,
      "outputs": []
    },
    {
      "cell_type": "markdown",
      "source": [
        "Explanation:\n",
        "\n",
        "def reverse_string(s):: This line defines a function named reverse_string that takes one argument, s, which represents the input string.\n",
        "\n",
        "return s[::-1]: This line is the core of the function.\n",
        "\n",
        "s[::-1] is a powerful string slicing technique in Python.\n",
        ": indicates slicing.\n",
        ":: means to slice the entire string.\n",
        "-1 specifies a step of -1, which means the string will be sliced from right to left (reversed).\n",
        "Example Usage:\n",
        "\n",
        "string = \"hello\" assigns the string \"hello\" to the string variable.\n",
        "reversed_string = reverse_string(string) calls the reverse_string function with the input string and stores the returned reversed string in the reversed_string variable.\n",
        "Finally, the original and reversed strings are printed to the console.\n",
        "This concise function effectively reverses the input string using Python's string slicing capabilities."
      ],
      "metadata": {
        "id": "ej9dDDwHSLBh"
      }
    },
    {
      "cell_type": "markdown",
      "source": [
        "\n",
        "# **3  Implement of item function that take a list of integer and return a new list containing the sequence of each number**\n",
        "\n",
        "Answer\n"
      ],
      "metadata": {
        "id": "h30sy8OcSfr-"
      }
    },
    {
      "cell_type": "code",
      "source": [
        "def item_sequence(numbers):\n",
        "  \"\"\"\n",
        "  This function takes a list of integers and returns a new list\n",
        "  containing the sequence of each number.\n",
        "\n",
        "  Args:\n",
        "    numbers: A list of integers.\n",
        "\n",
        "  Returns:\n",
        "    A new list containing the sequence of each number.\n",
        "  \"\"\"\n",
        "  result = []\n",
        "  for num in numbers:\n",
        "    result.extend(list(range(1, num + 1)))\n",
        "  return result\n",
        "\n",
        "# Example usage:\n",
        "my_list = [2, 4, 1, 3]\n",
        "result_list = item_sequence(my_list)\n",
        "print(result_list)  # Output: [1, 2, 1, 2, 3, 4, 1, 1, 2, 3]"
      ],
      "metadata": {
        "id": "FFVADdaRS3Vt"
      },
      "execution_count": null,
      "outputs": []
    },
    {
      "cell_type": "markdown",
      "source": [
        "Explanation:\n",
        "\n",
        "Function Definition:\n",
        "\n",
        "def item_sequence(numbers): defines a function named item_sequence that takes a single argument, numbers, which is expected to be a list of integers.\n",
        "Initialization:\n",
        "\n",
        "result = [] initializes an empty list result to store the output sequence.\n",
        "Iteration:\n",
        "\n",
        "for num in numbers: iterates through each number (num) in the input list numbers.\n",
        "Generating Sequence:\n",
        "\n",
        "result.extend(list(range(1, num + 1))) generates a sequence of numbers from 1 to num using the range() function. This sequence is then converted to a list and extended to the result list.\n",
        "Return Result:\n",
        "\n",
        "return result returns the final list containing the sequence of each number.\n",
        "Example Usage:\n",
        "\n",
        "A sample list my_list is created.\n",
        "The item_sequence function is called with my_list as input, and the result is stored in the result_list variable.\n",
        "The result_list is then printed to the console.\n",
        "This function effectively generates the desired sequence for each number in the input list and returns the combined sequence as a new list."
      ],
      "metadata": {
        "id": "AiMAHHedS67o"
      }
    },
    {
      "cell_type": "markdown",
      "source": [
        "# **4 Write a Python function that check if a given number is prime or not from 1 to 200 ?**\n",
        "\n",
        "Answer"
      ],
      "metadata": {
        "id": "2iaEH0dVTKHN"
      }
    },
    {
      "cell_type": "code",
      "source": [
        "def is_prime(n):\n",
        "  \"\"\"\n",
        "  Checks if a given number is prime.\n",
        "\n",
        "  Args:\n",
        "    n: The number to check for primality.\n",
        "\n",
        "  Returns:\n",
        "    True if n is prime, False otherwise.\n",
        "  \"\"\"\n",
        "  if n <= 1:\n",
        "    return False\n",
        "  for i in range(2, int(n**0.5) + 1):\n",
        "    if n % i == 0:\n",
        "      return False\n",
        "  return True\n",
        "\n",
        "# Check primality of numbers from 1 to 200\n",
        "for num in range(1, 201):\n",
        "  if is_prime(num):\n",
        "    print(num, \"is prime\")"
      ],
      "metadata": {
        "id": "BK4Y3pg4TVbR"
      },
      "execution_count": null,
      "outputs": []
    },
    {
      "cell_type": "markdown",
      "source": [
        "Explanation:\n",
        "\n",
        "is_prime(n) Function:\n",
        "\n",
        "Takes an integer n as input.\n",
        "Returns False if n is less than or equal to 1 (as 1 and numbers less than 1 are not prime).\n",
        "Iterates through numbers from 2 to the square root of n (inclusive).\n",
        "If n is divisible by any of these numbers (i.e., n % i == 0), it's not prime, so the function returns False.\n",
        "If the loop completes without finding any divisors, n is prime, and the function returns True.\n",
        "Checking Numbers from 1 to 200:\n",
        "\n",
        "The for loop iterates through numbers from 1 to 200.\n",
        "For each number, the is_prime() function is called to check if it's prime.\n",
        "If the number is prime, it is printed to the console.\n",
        "This code effectively checks for prime numbers within the specified range."
      ],
      "metadata": {
        "id": "5Do73gugTawD"
      }
    },
    {
      "cell_type": "markdown",
      "source": [
        "# **5 Creater an  interator class in Python that a generates the Fibonacci  sequence up to a specific number of terms.**\n",
        "\n",
        "Answer\n"
      ],
      "metadata": {
        "id": "LWXbhCrSTjFc"
      }
    },
    {
      "cell_type": "code",
      "source": [
        "class FibonacciIterator:\n",
        "    \"\"\"\n",
        "    An iterator class that generates the Fibonacci sequence up to a specific number of terms.\n",
        "    \"\"\"\n",
        "\n",
        "    def __init__(self, n):\n",
        "        \"\"\"\n",
        "        Initializes the FibonacciIterator with the desired number of terms.\n",
        "\n",
        "        Args:\n",
        "            n: The number of terms to generate in the Fibonacci sequence.\n",
        "        \"\"\"\n",
        "        self.n = n\n",
        "        self.a = 0\n",
        "        self.b = 1\n",
        "        self.count = 0\n",
        "\n",
        "    def __iter__(self):\n",
        "        \"\"\"\n",
        "        Returns the iterator object itself.\n",
        "        \"\"\"\n",
        "        return self\n",
        "\n",
        "    def __next__(self):\n",
        "        \"\"\"\n",
        "        Generates the next number in the Fibonacci sequence.\n",
        "        \"\"\"\n",
        "        if self.count >= self.n:\n",
        "            raise StopIteration\n",
        "\n",
        "        if self.count <= 1:\n",
        "            result = self.count\n",
        "        else:\n",
        "            result = self.a + self.b\n",
        "            self.a = self.b\n",
        "            self.b = result\n",
        "\n",
        "        self.count += 1\n",
        "        return result\n",
        "\n",
        "# Example usage:\n",
        "fibonacci_iterator = FibonacciIterator(10)\n",
        "\n",
        "# Iterate through the Fibonacci sequence\n",
        "for num in fibonacci_iterator:\n",
        "    print(num)"
      ],
      "metadata": {
        "id": "1dJXsnh4UdpZ"
      },
      "execution_count": null,
      "outputs": []
    },
    {
      "cell_type": "markdown",
      "source": [
        "Explanation:\n",
        "\n",
        "Class Definition:\n",
        "\n",
        "class FibonacciIterator: defines a class named FibonacciIterator.\n",
        "Initialization:\n",
        "\n",
        "__init__(self, n):\n",
        "Initializes the object with the desired number of terms (n).\n",
        "Sets initial values for a (0), b (1), and count (0).\n",
        "__iter__ Method:\n",
        "\n",
        "Returns the iterator object itself, making the class iterable.\n",
        "__next__ Method:\n",
        "\n",
        "Checks if the limit (n) has been reached. If so, raises StopIteration.\n",
        "Generates the next Fibonacci number based on the current values of a and b.\n",
        "Updates a, b, and count.\n",
        "Returns the generated Fibonacci number.\n",
        "Example Usage:\n",
        "\n",
        "Creates an instance of FibonacciIterator with n=10.\n",
        "Uses a for loop to iterate through the sequence generated by the iterator.\n",
        "This implementation effectively creates an iterator class that generates the Fibonacci sequence up to a specified number of terms."
      ],
      "metadata": {
        "id": "TBIY9d2aUi3e"
      }
    },
    {
      "cell_type": "markdown",
      "source": [
        "# **6  Write a generator function in Python that yields the power of two up to a given exponent?**\n",
        "\n",
        "Answer"
      ],
      "metadata": {
        "id": "BXDW6BnVUm06"
      }
    },
    {
      "cell_type": "code",
      "source": [
        "def powers_of_two(exponent):\n",
        "  \"\"\"\n",
        "  Generates the powers of two up to a given exponent.\n",
        "\n",
        "  Args:\n",
        "    exponent: The maximum exponent.\n",
        "\n",
        "  Yields:\n",
        "    The next power of two.\n",
        "  \"\"\"\n",
        "  power = 1\n",
        "  for i in range(exponent + 1):\n",
        "    yield power\n",
        "    power *= 2\n",
        "\n",
        "# Example usage:\n",
        "for power_of_two in powers_of_two(5):\n",
        "  print(power_of_two)"
      ],
      "metadata": {
        "id": "CYtGwXLXVB-o"
      },
      "execution_count": null,
      "outputs": []
    },
    {
      "cell_type": "markdown",
      "source": [
        "Explanation:\n",
        "\n",
        "Function Definition:\n",
        "\n",
        "def powers_of_two(exponent):: Defines a generator function named powers_of_two that takes an integer exponent as input.\n",
        "Initialization:\n",
        "\n",
        "power = 1: Initializes the power variable to 1, representing 2^0.\n",
        "Iteration:\n",
        "\n",
        "for i in range(exponent + 1):: Iterates from 0 to the given exponent.\n",
        "yield power: Yields the current value of power.\n",
        "power *= 2: Calculates the next power of two by multiplying the current power by 2.\n",
        "Example Usage:\n",
        "\n",
        "Creates a generator object by calling powers_of_two(5).\n",
        "Uses a for loop to iterate through the generated values and print each power of two.\n",
        "This generator function efficiently calculates and yields the powers of two up to the specified exponent, saving memory by generating values on-demand."
      ],
      "metadata": {
        "id": "2fJJTdgFVE-D"
      }
    },
    {
      "cell_type": "markdown",
      "source": [
        "\n",
        "# **7 Implement a generator function that reads a file line by line and yields each line as a string?**\n",
        "\n",
        "Answer"
      ],
      "metadata": {
        "id": "M9WOR8d-VIoU"
      }
    },
    {
      "cell_type": "code",
      "source": [
        "def read_file_lines(filename):\n",
        "  \"\"\"\n",
        "  Reads a file line by line and yields each line as a string.\n",
        "\n",
        "  Args:\n",
        "    filename: The path to the file to be read.\n",
        "\n",
        "  Yields:\n",
        "    Each line in the file as a string.\n",
        "  \"\"\"\n",
        "  with open(filename, 'r') as file:\n",
        "    for line in file:\n",
        "      yield line.strip()\n",
        "\n",
        "# Example usage:\n",
        "for line in read_file_lines('my_file.txt'):\n",
        "  print(line)"
      ],
      "metadata": {
        "id": "MvIHrjUFV7l8"
      },
      "execution_count": null,
      "outputs": []
    },
    {
      "cell_type": "markdown",
      "source": [
        "This code defines a generator function read_file_lines that takes a filename as input.\n",
        "\n",
        "Opens the file: It opens the file in read mode ('r') using the with statement, which ensures proper file closing even if exceptions occur.\n",
        "\n",
        "Iterates and yields: It iterates through each line in the file using a for loop.\n",
        "\n",
        "The yield statement returns the current line to the caller, pausing the function's execution until the next value is requested.\n",
        "line.strip() removes any leading or trailing whitespace characters from the line.\n",
        "Example usage:\n",
        "\n",
        "Demonstrates how to use the generator function in a for loop to process each line of the file.\n",
        "This approach is memory-efficient as it reads and processes the file line by line, avoiding loading the entire file into memory at once."
      ],
      "metadata": {
        "id": "lKH5pDWXV-Ri"
      }
    },
    {
      "cell_type": "markdown",
      "source": [
        "# **8  Use a Lambdada function in Python to sort a list of tuple based on the second element of each tuple?**\n",
        "\n",
        "Answer"
      ],
      "metadata": {
        "id": "wWwAoMeSWdfH"
      }
    },
    {
      "cell_type": "code",
      "source": [
        "data = [(3, 7), (2, 12), (5, 10), (9, 0)]\n",
        "\n",
        "# Sort the list of tuples based on the second element using lambda\n",
        "sorted_data = sorted(data, key=lambda x: x[1])\n",
        "\n",
        "print(\"Original list:\", data)\n",
        "print(\"Sorted list:\", sorted_data)"
      ],
      "metadata": {
        "id": "yNDtqMO-WjE3"
      },
      "execution_count": null,
      "outputs": []
    },
    {
      "cell_type": "markdown",
      "source": [
        "Explanation:\n",
        "\n",
        "Data:\n",
        "\n",
        "data = [(3, 7), (2, 12), (5, 10), (9, 0)]: This creates a list of tuples.\n",
        "Sorting with Lambda:\n",
        "\n",
        "sorted(data, key=lambda x: x[1]):\n",
        "sorted(): This built-in function sorts the given iterable.\n",
        "key=lambda x: x[1]: This is the crucial part.\n",
        "lambda x: x[1] defines an anonymous function that takes a single argument x (which represents a tuple in this case).\n",
        "x[1] accesses the second element of the tuple.\n",
        "The sorted() function uses this lambda function to determine the sorting order. It sorts the list based on the values returned by the lambda function for each tuple.\n",
        "Output:\n",
        "\n",
        "The code prints both the original list and the sorted list.\n",
        "This demonstrates how to effectively use a lambda function within the sorted() function to sort a list of tuples based on the second element of each tuple."
      ],
      "metadata": {
        "id": "0NIeWXe7WodC"
      }
    },
    {
      "cell_type": "markdown",
      "source": [
        "# **9 Write a Python program that use map() to convert a list of temperature from celsius to fahrenheit .**\n",
        "\n",
        "Answer\n"
      ],
      "metadata": {
        "id": "xL_VMtiqdXKx"
      }
    },
    {
      "cell_type": "markdown",
      "source": [
        "This program does the following:\n",
        "\n",
        "Defines a function:\n",
        "\n",
        "celsius_to_fahrenheit(celsius): This function takes a temperature in Celsius as input and returns the equivalent temperature in Fahrenheit using the conversion formula.\n",
        "Creates a list:\n",
        "\n",
        "celsius_temperatures: This list contains the temperatures in Celsius.\n",
        "Uses map():\n",
        "\n",
        "map(celsius_to_fahrenheit, celsius_temperatures): This applies the celsius_to_fahrenheit function to each element in the celsius_temperatures list. map() returns an iterator.\n",
        "Converts to list:\n",
        "\n",
        "list(map(celsius_to_fahrenheit, celsius_temperatures)): This converts the iterator returned by map() into a list, which is then stored in fahrenheit_temperatures.\n",
        "Prints the results:\n",
        "\n",
        "The program prints both the original Celsius temperatures and the converted Fahrenheit temperatures.\n",
        "This demonstrates how to effectively use the map() function with a custom function to perform a bulk operation on a list of values."
      ],
      "metadata": {
        "id": "ATOCeI-4eDoH"
      }
    },
    {
      "cell_type": "markdown",
      "source": [
        "def celsius_to_fahrenheit(celsius):\n",
        "  \"\"\"Converts Celsius to Fahrenheit.\n",
        "\n",
        "  Args:\n",
        "    celsius: Temperature in Celsius.\n",
        "\n",
        "  Returns:\n",
        "    Temperature in Fahrenheit.\n",
        "  \"\"\"\n",
        "  return (celsius * 9/5) + 32\n",
        "\n",
        "# List of temperatures in Celsius\n",
        "celsius_temperatures = [0, 10, 20, 30, 40]\n",
        "\n",
        "# Use map() to convert Celsius to Fahrenheit\n",
        "fahrenheit_temperatures = list(map(celsius_to_fahrenheit, celsius_temperatures))\n",
        "\n",
        "# Print the results\n",
        "print(\"Celsius Temperatures:\", celsius_temperatures)\n",
        "print(\"Fahrenheit Temperatures:\", fahrenheit_temperatures)"
      ],
      "metadata": {
        "id": "rvyzI8SQeWNd"
      }
    },
    {
      "cell_type": "markdown",
      "source": [
        "Explanation:\n",
        "\n",
        "Define the Conversion Function:\n",
        "\n",
        "celsius_to_fahrenheit(celsius): This function takes a temperature in Celsius as input and returns the equivalent temperature in Fahrenheit using the formula:\n",
        "Fahrenheit = (Celsius * 9/5) + 32\n",
        "Create a List of Celsius Temperatures:\n",
        "\n",
        "celsius_temperatures = [0, 10, 20, 30, 40]: This creates a list of temperatures in Celsius.\n",
        "Use map() for Conversion:\n",
        "\n",
        "fahrenheit_temperatures = list(map(celsius_to_fahrenheit, celsius_temperatures)):\n",
        "map() applies the celsius_to_fahrenheit function to each element in the celsius_temperatures list.\n",
        "list() converts the resulting iterator from map() into a list.\n",
        "Print the Results:\n",
        "\n",
        "The code prints both the original list of Celsius temperatures and the converted list of Fahrenheit temperatures.\n",
        "This program effectively demonstrates the use of the map() function to efficiently convert a list of temperatures from Celsius to Fahrenheit."
      ],
      "metadata": {
        "id": "mihCV4yWeaaw"
      }
    },
    {
      "cell_type": "markdown",
      "source": [
        "# **10   Create a python program that use filter to remove all the vowels from a given string.**\n",
        "\n",
        "Answer"
      ],
      "metadata": {
        "id": "HryKUsMPgML-"
      }
    },
    {
      "cell_type": "code",
      "source": [
        "def remove_vowels(string):\n",
        "  \"\"\"\n",
        "  Removes all vowels from a given string using the filter() function.\n",
        "\n",
        "  Args:\n",
        "    string: The input string.\n",
        "\n",
        "  Returns:\n",
        "    A string with all vowels removed.\n",
        "  \"\"\"\n",
        "  vowels = \"aeiouAEIOU\"\n",
        "  return \"\".join(filter(lambda char: char not in vowels, string))\n",
        "\n",
        "# Example usage\n",
        "input_string = \"Hello, World!\"\n",
        "string_without_vowels = remove_vowels(input_string)\n",
        "print(\"Original string:\", input_string)\n",
        "print(\"String without vowels:\", string_without_vowels)"
      ],
      "metadata": {
        "id": "uVm5BpGeoTvw"
      },
      "execution_count": null,
      "outputs": []
    },
    {
      "cell_type": "markdown",
      "source": [
        "Explanation:\n",
        "\n",
        "remove_vowels(string) function:\n",
        "\n",
        "Defines a function named remove_vowels that takes a string as input.\n",
        "vowels = \"aeiouAEIOU\": Defines a string containing all vowels (both lowercase and uppercase).\n",
        "filter() function:\n",
        "\n",
        "filter(lambda char: char not in vowels, string):\n",
        "lambda char: char not in vowels: This is a lambda function that checks if a character (char) is not present in the vowels string.\n",
        "filter() applies this lambda function to each character in the input string.\n",
        "filter() returns an iterator containing only the characters that satisfy the condition (i.e., not vowels).\n",
        "\"\".join(...):\n",
        "\n",
        "\"\".join(...): This joins the characters in the iterator returned by filter() into a single string.\n",
        "Example Usage:\n",
        "\n",
        "Assigns the string \"Hello, World!\" to the input_string variable.\n",
        "Calls the remove_vowels() function with the input string and stores the result in string_without_vowels.\n",
        "Prints the original string and the string without vowels.\n",
        "This program effectively demonstrates the use of the filter() function with a lambda function to remove all vowels from a given string."
      ],
      "metadata": {
        "id": "Ovsbfi2foWVQ"
      }
    },
    {
      "cell_type": "markdown",
      "source": [
        "11) Imagine an accounting routine used in a book shop. It works on a list with sublists, which look like this:\n",
        "\n",
        "\n",
        "Write a Python program, which returns a list with 2-tuples. Each tuple consists of the order number and the\n",
        "product of the price per item and the quantity. The product should be increased by 10,- € if the value of the\n",
        "# order is smaller than 100,00 €. **bold text**\n",
        "\n",
        "## Write a Python program using lambda and map. **bold text** **bold text**\n",
        "\n",
        "Answer\n",
        "\n"
      ],
      "metadata": {
        "id": "k9SYTBXhqKM6"
      }
    },
    {
      "cell_type": "markdown",
      "source": [
        "Explanation:\n",
        "\n",
        "calculate_order_value function:\n",
        "\n",
        "Takes a single order (represented as a list) as input.\n",
        "Extracts order_number, quantity, and price_per_item from the order list.\n",
        "Calculates the total_value by multiplying quantity and price_per_item.\n",
        "Applies the 10€ surcharge if total_value is less than 100€.\n",
        "Returns a tuple containing order_number and the calculated total_value.\n",
        "orders list:\n",
        "\n",
        "Defines a list of orders, where each order is represented as a sublist with the specified structure.\n",
        "map() function:\n",
        "\n",
        "Applies the calculate_order_value function to each order in the orders list using the map() function.\n",
        "The map() function returns an iterator.\n",
        "list() conversion:\n",
        "\n",
        "Converts the iterator returned by map() into a list using list().\n",
        "Print the results:\n",
        "\n",
        "Prints the resulting list of tuples, where each tuple contains the order number and its corresponding calculated value.\n",
        "This program effectively calculates the order values with the specified surcharge using the map() function and the calculate_order_value function."
      ],
      "metadata": {
        "id": "2Eqpze3JqjiH"
      }
    },
    {
      "cell_type": "code",
      "source": [
        "def calculate_order_value(order):\n",
        "    \"\"\"\n",
        "    Calculates the total value of an order with a 10€ surcharge for orders under 100€.\n",
        "\n",
        "    Args:\n",
        "        order: A list representing an order with the following structure:\n",
        "            [order_number, [book_title, author], quantity, price_per_item]\n",
        "\n",
        "    Returns:\n",
        "        A tuple: (order_number, total_value)\n",
        "    \"\"\"\n",
        "    order_number, _, quantity, price_per_item = order\n",
        "    total_value = quantity * price_per_item\n",
        "    return (order_number, total_value + 10) if total_value < 100 else (order_number, total_value)\n",
        "\n",
        "orders = [\n",
        "    [34587, [\"Learning Python\", \"Mark Lutz\"], 4, 40.95],\n",
        "    [98762, [\"Programming Python\", \"Mark Lutz\"], 3, 56.80],\n",
        "    [77226, [\"Head First Python\", \"Paul Barry\"], 2, 32.95],\n",
        "    [88112, [\"Einführung in Python3\", \"Bernd Klein\"], 3, 24.99]\n",
        "]"
      ],
      "metadata": {
        "id": "Fx_Mqcn9qkvG"
      },
      "execution_count": null,
      "outputs": []
    },
    {
      "cell_type": "code",
      "source": [
        "order_values = list(map(calculate_order_value, orders))\n",
        "\n",
        "print(order_values)"
      ],
      "metadata": {
        "id": "fL0EyfcDqp2H"
      },
      "execution_count": null,
      "outputs": []
    },
    {
      "cell_type": "markdown",
      "source": [
        "Explanation:\n",
        "\n",
        "calculate_order_value Function:\n",
        "\n",
        "Takes an order list as input.\n",
        "Unpacks the order list into order_number, _, quantity, and price_per_item.\n",
        "Calculates the total_value by multiplying quantity and price_per_item.\n",
        "Applies the surcharge:\n",
        "If total_value is less than 100, add 10 to total_value.\n",
        "Otherwise, keep total_value as it is.\n",
        "Returns a tuple containing the order_number and the calculated total_value.\n",
        "orders List:\n",
        "\n",
        "Defines a list of orders, where each order is represented as a sublist with the structure mentioned in the prompt.\n",
        "map() Function:\n",
        "\n",
        "map(calculate_order_value, orders):\n",
        "Applies the calculate_order_value function to each order in the orders list.\n",
        "Returns an iterator containing the results of the function calls.\n",
        "list() Conversion:\n",
        "\n",
        "list(map(calculate_order_value, orders)):\n",
        "Converts the iterator returned by map() into a list of tuples, where each tuple contains the order_number and its corresponding total_value.\n",
        "Print Results:\n",
        "\n",
        "Prints the order_values list, which contains the calculated order values for each order.\n",
        "This program effectively calculates the order values with the specified surcharge using the map() function and a well-defined calculate_order_value function, adhering to the given requirements."
      ],
      "metadata": {
        "id": "2rhmpLnSqskg"
      }
    }
  ]
}